{
 "cells": [
  {
   "cell_type": "code",
   "execution_count": 13,
   "id": "ca0838f3",
   "metadata": {},
   "outputs": [],
   "source": [
    "from ndicts.ndicts import NestedDict"
   ]
  },
  {
   "cell_type": "markdown",
   "id": "ad09cb5b",
   "metadata": {},
   "source": [
    "# Initialize"
   ]
  },
  {
   "cell_type": "markdown",
   "id": "7da983f7",
   "metadata": {},
   "source": [
    "Initialize from a nested dictionary"
   ]
  },
  {
   "cell_type": "code",
   "execution_count": 14,
   "id": "952f44de",
   "metadata": {},
   "outputs": [
    {
     "data": {
      "text/plain": [
       "NestedDict({'Book 1': {'Section 1': 'The Eve of the War', 'Section 2': 'The Falling Star'}, 'Book 2': {'Section 1': 'Under Foot', 'Section 2': {'Paragraph 1': 'After eating we crept back to the scullery'}}})"
      ]
     },
     "execution_count": 14,
     "metadata": {},
     "output_type": "execute_result"
    }
   ],
   "source": [
    "book = {\n",
    "    \"Book 1\": {\n",
    "        \"Section 1\": \"The Eve of the War\",\n",
    "        \"Section 2\": \"The Falling Star\"\n",
    "    },\n",
    "    \"Book 2\": {\n",
    "        \"Section 1\": \"Under Foot\", \n",
    "        \"Section 2\": {\"Paragraph 1\": \"After eating we crept back to the scullery\"}\n",
    "    }\n",
    "}\n",
    "\n",
    "NestedDict(book)"
   ]
  },
  {
   "cell_type": "markdown",
   "id": "4b4ded58",
   "metadata": {},
   "source": [
    "Initialize from cartesian product"
   ]
  },
  {
   "cell_type": "code",
   "execution_count": 15,
   "id": "212513ea",
   "metadata": {},
   "outputs": [
    {
     "data": {
      "text/plain": [
       "NestedDict({'Chapter 1': {'Section 1': {'Paragraph 1': None, 'Paragraph 2': None}, 'Section 2': {'Paragraph 1': None, 'Paragraph 2': None}}, 'Chapter 2': {'Section 1': {'Paragraph 1': None, 'Paragraph 2': None}, 'Section 2': {'Paragraph 1': None, 'Paragraph 2': None}}})"
      ]
     },
     "execution_count": 15,
     "metadata": {},
     "output_type": "execute_result"
    }
   ],
   "source": [
    "chapters = [\"Chapter 1\", \"Chapter 2\"]\n",
    "sections = [\"Section 1\", \"Section 2\"]\n",
    "paragraphs = [\"Paragraph 1\", \"Paragraph 2\"]\n",
    "\n",
    "NestedDict.from_product(chapters, sections, paragraphs)"
   ]
  },
  {
   "cell_type": "markdown",
   "id": "140688c0",
   "metadata": {},
   "source": [
    "Initialize from tuples"
   ]
  },
  {
   "cell_type": "code",
   "execution_count": 20,
   "id": "13d4d03f",
   "metadata": {},
   "outputs": [
    {
     "data": {
      "text/plain": [
       "NestedDict({'Chapter 1': {'Section 1': None}, 'Chapter 2': {'Section 2': None, 'Section 3': None}})"
      ]
     },
     "execution_count": 20,
     "metadata": {},
     "output_type": "execute_result"
    }
   ],
   "source": [
    "tuples = [\n",
    "    (\"Chapter 1\", \"Section 1\"),\n",
    "    (\"Chapter 2\", \"Section 2\"),\n",
    "    (\"Chapter 2\", \"Section 3\")\n",
    "]\n",
    "\n",
    "NestedDict.from_tuples(*tuples)"
   ]
  },
  {
   "cell_type": "markdown",
   "id": "06ed8b41",
   "metadata": {},
   "source": [
    "# Getting, setting and deleting items\n",
    "\n",
    "NestedDictionary behave almost like a dictionary, with a cleaner interface to get items."
   ]
  },
  {
   "cell_type": "markdown",
   "id": "ebffc3a0",
   "metadata": {},
   "source": [
    "Get values from a NestedDict"
   ]
  },
  {
   "cell_type": "code",
   "execution_count": 29,
   "id": "b4176f75",
   "metadata": {},
   "outputs": [
    {
     "name": "stdout",
     "output_type": "stream",
     "text": [
      "NestedDict({'a': {'a': None, 'b': None, 'c': None}, 'b': {'a': None, 'b': None, 'c': None}})\n",
      "{'a': None, 'b': None, 'c': None}\n",
      "None\n"
     ]
    }
   ],
   "source": [
    "nd = NestedDict.from_product(\"ab\", \"abc\")\n",
    "print(nd)\n",
    "\n",
    "print(nd[\"a\"])\n",
    "print(nd[\"b\", \"c\"])"
   ]
  },
  {
   "cell_type": "markdown",
   "id": "40a65991",
   "metadata": {},
   "source": [
    "Set values"
   ]
  },
  {
   "cell_type": "code",
   "execution_count": 31,
   "id": "d24f098a",
   "metadata": {},
   "outputs": [
    {
     "data": {
      "text/plain": [
       "NestedDict({'a': {'a': None, 'b': None, 'c': None}, 'b': {'a': None, 'b': None, 'c': 1}})"
      ]
     },
     "execution_count": 31,
     "metadata": {},
     "output_type": "execute_result"
    }
   ],
   "source": [
    "nd[\"b\", \"c\"] = 1\n",
    "nd"
   ]
  },
  {
   "cell_type": "code",
   "execution_count": 34,
   "id": "3ae70a69",
   "metadata": {},
   "outputs": [
    {
     "data": {
      "text/plain": [
       "NestedDict({'a': {'a': 0, 'b': 1}})"
      ]
     },
     "execution_count": 34,
     "metadata": {},
     "output_type": "execute_result"
    }
   ],
   "source": [
    "nd = NestedDict()\n",
    "nd[\"a\", \"a\"] = 0\n",
    "nd[\"a\", \"b\"] = 1\n",
    "\n",
    "nd"
   ]
  },
  {
   "cell_type": "markdown",
   "id": "186fa424",
   "metadata": {},
   "source": [
    "Delete values"
   ]
  },
  {
   "cell_type": "code",
   "execution_count": 35,
   "id": "7516311f",
   "metadata": {},
   "outputs": [
    {
     "data": {
      "text/plain": [
       "NestedDict({})"
      ]
     },
     "execution_count": 35,
     "metadata": {},
     "output_type": "execute_result"
    }
   ],
   "source": [
    "del nd[\"a\"]\n",
    "nd"
   ]
  },
  {
   "cell_type": "markdown",
   "id": "e4e44631",
   "metadata": {},
   "source": [
    "# Iterate\n",
    "\n",
    "NestedDict have the same interface of dictionaries to iterate over keys, values and items."
   ]
  },
  {
   "cell_type": "code",
   "execution_count": 39,
   "id": "f1139c26",
   "metadata": {},
   "outputs": [
    {
     "data": {
      "text/plain": [
       "NestedDict({'a': {'a': None, 'b': None, 'c': None}, 'b': {'a': None, 'b': None, 'c': None}})"
      ]
     },
     "execution_count": 39,
     "metadata": {},
     "output_type": "execute_result"
    }
   ],
   "source": [
    "nd = NestedDict.from_product(\"ab\", \"abc\")\n",
    "nd"
   ]
  },
  {
   "cell_type": "markdown",
   "id": "bfe4cc06",
   "metadata": {},
   "source": [
    "Iterate over a NestedDict"
   ]
  },
  {
   "cell_type": "code",
   "execution_count": 40,
   "id": "cd1a8544",
   "metadata": {},
   "outputs": [
    {
     "name": "stdout",
     "output_type": "stream",
     "text": [
      "('a', 'a')\n",
      "('a', 'b')\n",
      "('a', 'c')\n",
      "('b', 'a')\n",
      "('b', 'b')\n",
      "('b', 'c')\n"
     ]
    }
   ],
   "source": [
    "for key in nd:\n",
    "    print(key)"
   ]
  },
  {
   "cell_type": "markdown",
   "id": "7c8f77b5",
   "metadata": {},
   "source": [
    "Same result with the .keys() method"
   ]
  },
  {
   "cell_type": "code",
   "execution_count": 41,
   "id": "adba9416",
   "metadata": {},
   "outputs": [
    {
     "name": "stdout",
     "output_type": "stream",
     "text": [
      "('a', 'a')\n",
      "('a', 'b')\n",
      "('a', 'c')\n",
      "('b', 'a')\n",
      "('b', 'b')\n",
      "('b', 'c')\n"
     ]
    }
   ],
   "source": [
    "for key in nd:\n",
    "    print(key)"
   ]
  },
  {
   "cell_type": "markdown",
   "id": "ff7ee650",
   "metadata": {},
   "source": [
    "Iterate over values"
   ]
  },
  {
   "cell_type": "code",
   "execution_count": 42,
   "id": "34b1e72d",
   "metadata": {},
   "outputs": [
    {
     "name": "stdout",
     "output_type": "stream",
     "text": [
      "None\n",
      "None\n",
      "None\n",
      "None\n",
      "None\n",
      "None\n"
     ]
    }
   ],
   "source": [
    "for value in nd.values():\n",
    "    print(value)"
   ]
  },
  {
   "cell_type": "markdown",
   "id": "aa1f8192",
   "metadata": {},
   "source": [
    "Iterate over items"
   ]
  },
  {
   "cell_type": "code",
   "execution_count": 45,
   "id": "56c4f85b",
   "metadata": {},
   "outputs": [
    {
     "name": "stdout",
     "output_type": "stream",
     "text": [
      "('a', 'a'): None\n",
      "('a', 'b'): None\n",
      "('a', 'c'): None\n",
      "('b', 'a'): None\n",
      "('b', 'b'): None\n",
      "('b', 'c'): None\n"
     ]
    }
   ],
   "source": [
    "for key, value in nd.items():\n",
    "    print(f\"{key}: {value}\")"
   ]
  },
  {
   "cell_type": "markdown",
   "id": "37cc0fc2",
   "metadata": {},
   "source": [
    "# Extract\n",
    "\n",
    "Getting an item returns a dictionary. To return another NestedDictionary use the extract property.\n",
    "\n",
    "extract also allows slicing."
   ]
  },
  {
   "cell_type": "code",
   "execution_count": 46,
   "id": "7cdc2a5f",
   "metadata": {},
   "outputs": [
    {
     "data": {
      "text/plain": [
       "NestedDict({'a': {'a': None, 'b': None, 'c': None}, 'b': {'a': None, 'b': None, 'c': None}})"
      ]
     },
     "execution_count": 46,
     "metadata": {},
     "output_type": "execute_result"
    }
   ],
   "source": [
    "nd = NestedDict.from_product(\"ab\", \"abc\")\n",
    "nd"
   ]
  },
  {
   "cell_type": "code",
   "execution_count": 47,
   "id": "81b8a842",
   "metadata": {},
   "outputs": [
    {
     "data": {
      "text/plain": [
       "NestedDict({'a': {'a': None, 'b': None, 'c': None}})"
      ]
     },
     "execution_count": 47,
     "metadata": {},
     "output_type": "execute_result"
    }
   ],
   "source": [
    "nd.extract[\"a\"]"
   ]
  },
  {
   "cell_type": "markdown",
   "id": "3a4c5055",
   "metadata": {},
   "source": [
    "Slice the data by using an empty string"
   ]
  },
  {
   "cell_type": "code",
   "execution_count": 48,
   "id": "1bf61f0b",
   "metadata": {},
   "outputs": [
    {
     "data": {
      "text/plain": [
       "NestedDict({'a': {'c': None}, 'b': {'c': None}})"
      ]
     },
     "execution_count": 48,
     "metadata": {},
     "output_type": "execute_result"
    }
   ],
   "source": [
    "nd.extract[\"\", \"c\"]"
   ]
  },
  {
   "cell_type": "markdown",
   "id": "2f41ad1b",
   "metadata": {},
   "source": [
    "# MutableMappings methods\n",
    "\n",
    "NestedDict have all methods that MutableMappings have"
   ]
  },
  {
   "cell_type": "code",
   "execution_count": 71,
   "id": "98137479",
   "metadata": {},
   "outputs": [
    {
     "data": {
      "text/plain": [
       "NestedDict({'a': {'a': None, 'b': None, 'c': None}, 'b': {'a': None, 'b': None, 'c': None}})"
      ]
     },
     "execution_count": 71,
     "metadata": {},
     "output_type": "execute_result"
    }
   ],
   "source": [
    "nd = NestedDict.from_product(\"ab\", \"abc\")\n",
    "nd"
   ]
  },
  {
   "cell_type": "code",
   "execution_count": 81,
   "id": "d568f8e2",
   "metadata": {},
   "outputs": [
    {
     "data": {
      "text/plain": [
       "6"
      ]
     },
     "execution_count": 81,
     "metadata": {},
     "output_type": "execute_result"
    }
   ],
   "source": [
    "len(nd)"
   ]
  },
  {
   "cell_type": "code",
   "execution_count": 72,
   "id": "5228472c",
   "metadata": {},
   "outputs": [
    {
     "data": {
      "text/plain": [
       "((('a', 'a'), None),\n",
       " NestedDict({'a': {'b': None, 'c': None}, 'b': {'a': None, 'b': None, 'c': None}}))"
      ]
     },
     "execution_count": 72,
     "metadata": {},
     "output_type": "execute_result"
    }
   ],
   "source": [
    "result = nd.popitem()\n",
    "result, nd"
   ]
  },
  {
   "cell_type": "code",
   "execution_count": 73,
   "id": "56b6cdd5",
   "metadata": {},
   "outputs": [
    {
     "data": {
      "text/plain": [
       "({'b': None, 'c': None}, NestedDict({'b': {'a': None, 'b': None, 'c': None}}))"
      ]
     },
     "execution_count": 73,
     "metadata": {},
     "output_type": "execute_result"
    }
   ],
   "source": [
    "result = nd.pop(\"a\", \"b\")\n",
    "result, nd"
   ]
  },
  {
   "cell_type": "code",
   "execution_count": 74,
   "id": "d3a0b764",
   "metadata": {},
   "outputs": [
    {
     "data": {
      "text/plain": [
       "(0, NestedDict({'b': {'a': None, 'b': None, 'c': None}}))"
      ]
     },
     "execution_count": 74,
     "metadata": {},
     "output_type": "execute_result"
    }
   ],
   "source": [
    "result = nd.get(\"z\", 0)\n",
    "result, nd"
   ]
  },
  {
   "cell_type": "code",
   "execution_count": 68,
   "id": "d689a60f",
   "metadata": {},
   "outputs": [
    {
     "data": {
      "text/plain": [
       "(0, NestedDict({'b': {'a': None, 'b': None, 'c': None}, 'z': 0}))"
      ]
     },
     "execution_count": 68,
     "metadata": {},
     "output_type": "execute_result"
    }
   ],
   "source": [
    "result = nd.setdefault(\"z\", 0)\n",
    "result, nd"
   ]
  },
  {
   "cell_type": "code",
   "execution_count": 75,
   "id": "2391f7fd",
   "metadata": {},
   "outputs": [
    {
     "data": {
      "text/plain": [
       "NestedDict({'b': {'a': None, 'b': None, 'c': None}, 'zzz': 1})"
      ]
     },
     "execution_count": 75,
     "metadata": {},
     "output_type": "execute_result"
    }
   ],
   "source": [
    "nd.update({\"zzz\": 1})\n",
    "nd"
   ]
  },
  {
   "cell_type": "code",
   "execution_count": 76,
   "id": "50786df3",
   "metadata": {},
   "outputs": [
    {
     "data": {
      "text/plain": [
       "NestedDict({})"
      ]
     },
     "execution_count": 76,
     "metadata": {},
     "output_type": "execute_result"
    }
   ],
   "source": [
    "nd.clear()\n",
    "nd"
   ]
  },
  {
   "cell_type": "markdown",
   "id": "8ad073a9",
   "metadata": {},
   "source": [
    "# Other methods"
   ]
  },
  {
   "cell_type": "markdown",
   "id": "27a49b45",
   "metadata": {},
   "source": [
    "Copy"
   ]
  },
  {
   "cell_type": "code",
   "execution_count": 82,
   "id": "e5ff278e",
   "metadata": {},
   "outputs": [],
   "source": [
    "nd = NestedDict.from_product(\"ab\", \"abc\")\n",
    "nd_copy = nd\n",
    "\n",
    "assert nd_copy is nd\n",
    "\n",
    "nd_copy = nd.copy()\n",
    "\n",
    "assert nd_copy is not nd\n",
    "assert nd_copy == nd"
   ]
  },
  {
   "cell_type": "markdown",
   "id": "7c899521",
   "metadata": {},
   "source": [
    "Convert to dictionary"
   ]
  },
  {
   "cell_type": "code",
   "execution_count": 84,
   "id": "5e1db3e2",
   "metadata": {},
   "outputs": [
    {
     "data": {
      "text/plain": [
       "{'a': {'a': None, 'b': None, 'c': None},\n",
       " 'b': {'a': None, 'b': None, 'c': None}}"
      ]
     },
     "execution_count": 84,
     "metadata": {},
     "output_type": "execute_result"
    }
   ],
   "source": [
    "nd.to_dict()"
   ]
  },
  {
   "cell_type": "code",
   "execution_count": null,
   "id": "1522394d",
   "metadata": {},
   "outputs": [],
   "source": []
  }
 ],
 "metadata": {
  "kernelspec": {
   "display_name": ".venv",
   "language": "python",
   "name": ".venv"
  },
  "language_info": {
   "codemirror_mode": {
    "name": "ipython",
    "version": 3
   },
   "file_extension": ".py",
   "mimetype": "text/x-python",
   "name": "python",
   "nbconvert_exporter": "python",
   "pygments_lexer": "ipython3",
   "version": "3.8.12"
  }
 },
 "nbformat": 4,
 "nbformat_minor": 5
}
