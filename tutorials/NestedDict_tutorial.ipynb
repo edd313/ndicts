{
 "cells": [
  {
   "cell_type": "code",
   "execution_count": 13,
   "id": "ca0838f3",
   "metadata": {},
   "outputs": [],
   "source": [
    "from ndicts.ndicts import NestedDict"
   ]
  },
  {
   "cell_type": "markdown",
   "id": "8f11468b",
   "metadata": {},
   "source": [
    "# Initialize"
   ]
  },
  {
   "cell_type": "markdown",
   "id": "e9103092",
   "metadata": {},
   "source": [
    "Initialize from a nested dictionary"
   ]
  },
  {
   "cell_type": "code",
   "execution_count": 14,
   "id": "952f44de",
   "metadata": {},
   "outputs": [
    {
     "data": {
      "text/plain": [
       "NestedDict({'Book 1': {'Section 1': 'The Eve of the War', 'Section 2': 'The Falling Star'}, 'Book 2': {'Section 1': 'Under Foot', 'Section 2': {'Paragraph 1': 'After eating we crept back to the scullery'}}})"
      ]
     },
     "execution_count": 14,
     "metadata": {},
     "output_type": "execute_result"
    }
   ],
   "source": [
    "book = {\n",
    "    \"Book 1\": {\n",
    "        \"Section 1\": \"The Eve of the War\",\n",
    "        \"Section 2\": \"The Falling Star\"\n",
    "    },\n",
    "    \"Book 2\": {\n",
    "        \"Section 1\": \"Under Foot\", \n",
    "        \"Section 2\": {\"Paragraph 1\": \"After eating we crept back to the scullery\"}\n",
    "    }\n",
    "}\n",
    "\n",
    "NestedDict(book)"
   ]
  },
  {
   "cell_type": "markdown",
   "id": "4ed264c7",
   "metadata": {},
   "source": [
    "Initialize from cartesian product"
   ]
  },
  {
   "cell_type": "code",
   "execution_count": 15,
   "id": "a103d3ce",
   "metadata": {},
   "outputs": [
    {
     "data": {
      "text/plain": [
       "NestedDict({'Chapter 1': {'Section 1': {'Paragraph 1': None, 'Paragraph 2': None}, 'Section 2': {'Paragraph 1': None, 'Paragraph 2': None}}, 'Chapter 2': {'Section 1': {'Paragraph 1': None, 'Paragraph 2': None}, 'Section 2': {'Paragraph 1': None, 'Paragraph 2': None}}})"
      ]
     },
     "execution_count": 15,
     "metadata": {},
     "output_type": "execute_result"
    }
   ],
   "source": [
    "chapters = [\"Chapter 1\", \"Chapter 2\"]\n",
    "sections = [\"Section 1\", \"Section 2\"]\n",
    "paragraphs = [\"Paragraph 1\", \"Paragraph 2\"]\n",
    "\n",
    "NestedDict.from_product(chapters, sections, paragraphs)"
   ]
  },
  {
   "cell_type": "markdown",
   "id": "f54d712f",
   "metadata": {},
   "source": [
    "Initialize from tuples"
   ]
  },
  {
   "cell_type": "code",
   "execution_count": 20,
   "id": "14ca14c5",
   "metadata": {},
   "outputs": [
    {
     "data": {
      "text/plain": [
       "NestedDict({'Chapter 1': {'Section 1': None}, 'Chapter 2': {'Section 2': None, 'Section 3': None}})"
      ]
     },
     "execution_count": 20,
     "metadata": {},
     "output_type": "execute_result"
    }
   ],
   "source": [
    "tuples = [\n",
    "    (\"Chapter 1\", \"Section 1\"),\n",
    "    (\"Chapter 2\", \"Section 2\"),\n",
    "    (\"Chapter 2\", \"Section 3\")\n",
    "]\n",
    "\n",
    "NestedDict.from_tuples(*tuples)"
   ]
  },
  {
   "cell_type": "markdown",
   "id": "e58cd29b",
   "metadata": {},
   "source": [
    "# Getting, setting and deleting items\n",
    "\n",
    "NestedDictionary behave almost like a dictionary, with a cleaner interface to get items."
   ]
  },
  {
   "cell_type": "markdown",
   "id": "36808862",
   "metadata": {},
   "source": [
    "Get values from a NestedDict"
   ]
  },
  {
   "cell_type": "code",
   "execution_count": 29,
   "id": "2b523499",
   "metadata": {},
   "outputs": [
    {
     "name": "stdout",
     "output_type": "stream",
     "text": [
      "NestedDict({'a': {'a': None, 'b': None, 'c': None}, 'b': {'a': None, 'b': None, 'c': None}})\n",
      "{'a': None, 'b': None, 'c': None}\n",
      "None\n"
     ]
    }
   ],
   "source": [
    "nd = NestedDict.from_product(\"ab\", \"abc\")\n",
    "print(nd)\n",
    "\n",
    "print(nd[\"a\"])\n",
    "print(nd[\"b\", \"c\"])"
   ]
  },
  {
   "cell_type": "markdown",
   "id": "13480ff0",
   "metadata": {},
   "source": [
    "Set values"
   ]
  },
  {
   "cell_type": "code",
   "execution_count": 31,
   "id": "09d66e57",
   "metadata": {},
   "outputs": [
    {
     "data": {
      "text/plain": [
       "NestedDict({'a': {'a': None, 'b': None, 'c': None}, 'b': {'a': None, 'b': None, 'c': 1}})"
      ]
     },
     "execution_count": 31,
     "metadata": {},
     "output_type": "execute_result"
    }
   ],
   "source": [
    "nd[\"b\", \"c\"] = 1\n",
    "nd"
   ]
  },
  {
   "cell_type": "code",
   "execution_count": 34,
   "id": "e63ca5f5",
   "metadata": {},
   "outputs": [
    {
     "data": {
      "text/plain": [
       "NestedDict({'a': {'a': 0, 'b': 1}})"
      ]
     },
     "execution_count": 34,
     "metadata": {},
     "output_type": "execute_result"
    }
   ],
   "source": [
    "nd = NestedDict()\n",
    "nd[\"a\", \"a\"] = 0\n",
    "nd[\"a\", \"b\"] = 1\n",
    "\n",
    "nd"
   ]
  },
  {
   "cell_type": "markdown",
   "id": "31756fa6",
   "metadata": {},
   "source": [
    "Delete values"
   ]
  },
  {
   "cell_type": "code",
   "execution_count": 35,
   "id": "c55603c3",
   "metadata": {},
   "outputs": [
    {
     "data": {
      "text/plain": [
       "NestedDict({})"
      ]
     },
     "execution_count": 35,
     "metadata": {},
     "output_type": "execute_result"
    }
   ],
   "source": [
    "del nd[\"a\"]\n",
    "nd"
   ]
  },
  {
   "cell_type": "markdown",
   "id": "af980be1",
   "metadata": {},
   "source": [
    "# Iterate\n",
    "\n",
    "NestedDict have the same interface of dictionaries to iterate over keys, values and items."
   ]
  },
  {
   "cell_type": "code",
   "execution_count": 39,
   "id": "1206e905",
   "metadata": {},
   "outputs": [
    {
     "data": {
      "text/plain": [
       "NestedDict({'a': {'a': None, 'b': None, 'c': None}, 'b': {'a': None, 'b': None, 'c': None}})"
      ]
     },
     "execution_count": 39,
     "metadata": {},
     "output_type": "execute_result"
    }
   ],
   "source": [
    "nd = NestedDict.from_product(\"ab\", \"abc\")\n",
    "nd"
   ]
  },
  {
   "cell_type": "markdown",
   "id": "ac875a39",
   "metadata": {},
   "source": [
    "Iterate over a NestedDict"
   ]
  },
  {
   "cell_type": "code",
   "execution_count": 40,
   "id": "4ea08168",
   "metadata": {},
   "outputs": [
    {
     "name": "stdout",
     "output_type": "stream",
     "text": [
      "('a', 'a')\n",
      "('a', 'b')\n",
      "('a', 'c')\n",
      "('b', 'a')\n",
      "('b', 'b')\n",
      "('b', 'c')\n"
     ]
    }
   ],
   "source": [
    "for key in nd:\n",
    "    print(key)"
   ]
  },
  {
   "cell_type": "markdown",
   "id": "3650bf08",
   "metadata": {},
   "source": [
    "Same result with the .keys() method"
   ]
  },
  {
   "cell_type": "code",
   "execution_count": 41,
   "id": "d269b300",
   "metadata": {},
   "outputs": [
    {
     "name": "stdout",
     "output_type": "stream",
     "text": [
      "('a', 'a')\n",
      "('a', 'b')\n",
      "('a', 'c')\n",
      "('b', 'a')\n",
      "('b', 'b')\n",
      "('b', 'c')\n"
     ]
    }
   ],
   "source": [
    "for key in nd:\n",
    "    print(key)"
   ]
  },
  {
   "cell_type": "markdown",
   "id": "922e1390",
   "metadata": {},
   "source": [
    "Iterate over values"
   ]
  },
  {
   "cell_type": "code",
   "execution_count": 42,
   "id": "c153fe9c",
   "metadata": {},
   "outputs": [
    {
     "name": "stdout",
     "output_type": "stream",
     "text": [
      "None\n",
      "None\n",
      "None\n",
      "None\n",
      "None\n",
      "None\n"
     ]
    }
   ],
   "source": [
    "for value in nd.values():\n",
    "    print(value)"
   ]
  },
  {
   "cell_type": "markdown",
   "id": "3e81bdf1",
   "metadata": {},
   "source": [
    "Iterate over items"
   ]
  },
  {
   "cell_type": "code",
   "execution_count": 45,
   "id": "4bf67ce3",
   "metadata": {},
   "outputs": [
    {
     "name": "stdout",
     "output_type": "stream",
     "text": [
      "('a', 'a'): None\n",
      "('a', 'b'): None\n",
      "('a', 'c'): None\n",
      "('b', 'a'): None\n",
      "('b', 'b'): None\n",
      "('b', 'c'): None\n"
     ]
    }
   ],
   "source": [
    "for key, value in nd.items():\n",
    "    print(f\"{key}: {value}\")"
   ]
  },
  {
   "cell_type": "markdown",
   "id": "c2ad6e6d",
   "metadata": {},
   "source": [
    "# Extract\n",
    "\n",
    "Getting an item returns a dictionary. To return another NestedDictionary use the extract property.\n",
    "\n",
    "extract also allows slicing."
   ]
  },
  {
   "cell_type": "code",
   "execution_count": 46,
   "id": "eafa8586",
   "metadata": {},
   "outputs": [
    {
     "data": {
      "text/plain": [
       "NestedDict({'a': {'a': None, 'b': None, 'c': None}, 'b': {'a': None, 'b': None, 'c': None}})"
      ]
     },
     "execution_count": 46,
     "metadata": {},
     "output_type": "execute_result"
    }
   ],
   "source": [
    "nd = NestedDict.from_product(\"ab\", \"abc\")\n",
    "nd"
   ]
  },
  {
   "cell_type": "code",
   "execution_count": 47,
   "id": "dcbb566f",
   "metadata": {},
   "outputs": [
    {
     "data": {
      "text/plain": [
       "NestedDict({'a': {'a': None, 'b': None, 'c': None}})"
      ]
     },
     "execution_count": 47,
     "metadata": {},
     "output_type": "execute_result"
    }
   ],
   "source": [
    "nd.extract[\"a\"]"
   ]
  },
  {
   "cell_type": "markdown",
   "id": "e0310cf3",
   "metadata": {},
   "source": [
    "Slice the data by using an empty string"
   ]
  },
  {
   "cell_type": "code",
   "execution_count": 48,
   "id": "6f1c7e41",
   "metadata": {},
   "outputs": [
    {
     "data": {
      "text/plain": [
       "NestedDict({'a': {'c': None}, 'b': {'c': None}})"
      ]
     },
     "execution_count": 48,
     "metadata": {},
     "output_type": "execute_result"
    }
   ],
   "source": [
    "nd.extract[\"\", \"c\"]"
   ]
  },
  {
   "cell_type": "markdown",
   "id": "638fa028",
   "metadata": {},
   "source": [
    "# MutableMappings methods\n",
    "\n",
    "NestedDict have all methods that MutableMappings have"
   ]
  },
  {
   "cell_type": "code",
   "execution_count": 71,
   "id": "82fb3469",
   "metadata": {},
   "outputs": [
    {
     "data": {
      "text/plain": [
       "NestedDict({'a': {'a': None, 'b': None, 'c': None}, 'b': {'a': None, 'b': None, 'c': None}})"
      ]
     },
     "execution_count": 71,
     "metadata": {},
     "output_type": "execute_result"
    }
   ],
   "source": [
    "nd = NestedDict.from_product(\"ab\", \"abc\")\n",
    "nd"
   ]
  },
  {
   "cell_type": "code",
   "execution_count": 81,
   "id": "a19c186b",
   "metadata": {},
   "outputs": [
    {
     "data": {
      "text/plain": [
       "6"
      ]
     },
     "execution_count": 81,
     "metadata": {},
     "output_type": "execute_result"
    }
   ],
   "source": [
    "len(nd)"
   ]
  },
  {
   "cell_type": "code",
   "execution_count": 72,
   "id": "8feceb15",
   "metadata": {},
   "outputs": [
    {
     "data": {
      "text/plain": [
       "((('a', 'a'), None),\n",
       " NestedDict({'a': {'b': None, 'c': None}, 'b': {'a': None, 'b': None, 'c': None}}))"
      ]
     },
     "execution_count": 72,
     "metadata": {},
     "output_type": "execute_result"
    }
   ],
   "source": [
    "result = nd.popitem()\n",
    "result, nd"
   ]
  },
  {
   "cell_type": "code",
   "execution_count": 73,
   "id": "3b657924",
   "metadata": {},
   "outputs": [
    {
     "data": {
      "text/plain": [
       "({'b': None, 'c': None}, NestedDict({'b': {'a': None, 'b': None, 'c': None}}))"
      ]
     },
     "execution_count": 73,
     "metadata": {},
     "output_type": "execute_result"
    }
   ],
   "source": [
    "result = nd.pop(\"a\", \"b\")\n",
    "result, nd"
   ]
  },
  {
   "cell_type": "code",
   "execution_count": 74,
   "id": "1a37d3db",
   "metadata": {},
   "outputs": [
    {
     "data": {
      "text/plain": [
       "(0, NestedDict({'b': {'a': None, 'b': None, 'c': None}}))"
      ]
     },
     "execution_count": 74,
     "metadata": {},
     "output_type": "execute_result"
    }
   ],
   "source": [
    "result = nd.get(\"z\", 0)\n",
    "result, nd"
   ]
  },
  {
   "cell_type": "code",
   "execution_count": 68,
   "id": "d484de53",
   "metadata": {},
   "outputs": [
    {
     "data": {
      "text/plain": [
       "(0, NestedDict({'b': {'a': None, 'b': None, 'c': None}, 'z': 0}))"
      ]
     },
     "execution_count": 68,
     "metadata": {},
     "output_type": "execute_result"
    }
   ],
   "source": [
    "result = nd.setdefault(\"z\", 0)\n",
    "result, nd"
   ]
  },
  {
   "cell_type": "code",
   "execution_count": 75,
   "id": "ef3decfd",
   "metadata": {},
   "outputs": [
    {
     "data": {
      "text/plain": [
       "NestedDict({'b': {'a': None, 'b': None, 'c': None}, 'zzz': 1})"
      ]
     },
     "execution_count": 75,
     "metadata": {},
     "output_type": "execute_result"
    }
   ],
   "source": [
    "nd.update({\"zzz\": 1})\n",
    "nd"
   ]
  },
  {
   "cell_type": "code",
   "execution_count": 76,
   "id": "c306fb5d",
   "metadata": {},
   "outputs": [
    {
     "data": {
      "text/plain": [
       "NestedDict({})"
      ]
     },
     "execution_count": 76,
     "metadata": {},
     "output_type": "execute_result"
    }
   ],
   "source": [
    "nd.clear()\n",
    "nd"
   ]
  },
  {
   "cell_type": "markdown",
   "id": "3d78b878",
   "metadata": {},
   "source": [
    "# Other methods"
   ]
  },
  {
   "cell_type": "markdown",
   "id": "bc3e9b3a",
   "metadata": {},
   "source": [
    "Copy"
   ]
  },
  {
   "cell_type": "code",
   "execution_count": 82,
   "id": "a3f5c03f",
   "metadata": {},
   "outputs": [],
   "source": [
    "nd = NestedDict.from_product(\"ab\", \"abc\")\n",
    "nd_copy = nd\n",
    "\n",
    "assert nd_copy is nd\n",
    "\n",
    "nd_copy = nd.copy()\n",
    "\n",
    "assert nd_copy is not nd\n",
    "assert nd_copy == nd"
   ]
  },
  {
   "cell_type": "markdown",
   "id": "07403154",
   "metadata": {},
   "source": [
    "Convert to dictionary"
   ]
  },
  {
   "cell_type": "code",
   "execution_count": 84,
   "id": "4ee6c581",
   "metadata": {},
   "outputs": [
    {
     "data": {
      "text/plain": [
       "{'a': {'a': None, 'b': None, 'c': None},\n",
       " 'b': {'a': None, 'b': None, 'c': None}}"
      ]
     },
     "execution_count": 84,
     "metadata": {},
     "output_type": "execute_result"
    }
   ],
   "source": [
    "nd.to_dict()"
   ]
  },
  {
   "cell_type": "code",
   "execution_count": null,
   "id": "9df01897",
   "metadata": {},
   "outputs": [],
   "source": []
  }
 ],
 "metadata": {
  "kernelspec": {
   "display_name": ".venv",
   "language": "python",
   "name": ".venv"
  },
  "language_info": {
   "codemirror_mode": {
    "name": "ipython",
    "version": 3
   },
   "file_extension": ".py",
   "mimetype": "text/x-python",
   "name": "python",
   "nbconvert_exporter": "python",
   "pygments_lexer": "ipython3",
   "version": "3.8.12"
  }
 },
 "nbformat": 4,
 "nbformat_minor": 5
}
