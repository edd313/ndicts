{
 "cells": [
  {
   "cell_type": "code",
   "execution_count": 1,
   "id": "8d602c40",
   "metadata": {},
   "outputs": [],
   "source": [
    "from ndicts.ndicts import DataDict, NestedDict"
   ]
  },
  {
   "cell_type": "markdown",
   "id": "45e40589",
   "metadata": {},
   "source": [
    "A DataDict is a NestedDict that supports arithmetic operations, as well as a buch of other methods for mathematical operations"
   ]
  },
  {
   "cell_type": "code",
   "execution_count": 2,
   "id": "41e53598",
   "metadata": {},
   "outputs": [],
   "source": [
    "assert isinstance(DataDict(), NestedDict)"
   ]
  },
  {
   "cell_type": "markdown",
   "id": "151a7fc8",
   "metadata": {},
   "source": [
    "# Arithmetics\n",
    "\n",
    "Operations supported: +, -, \\*, \\/, \\**, //, %"
   ]
  },
  {
   "cell_type": "code",
   "execution_count": 3,
   "id": "82386799",
   "metadata": {},
   "outputs": [
    {
     "data": {
      "text/plain": [
       "DataDict({'a': {'a': 3, 'b': 3}, 'b': {'a': 3, 'b': 3}, 'c': {'a': 3, 'b': 3}})"
      ]
     },
     "execution_count": 3,
     "metadata": {},
     "output_type": "execute_result"
    }
   ],
   "source": [
    "DataDict.from_product(\"abc\", \"ab\", value=1) + DataDict.from_product(\"abc\", \"ab\", value=2)"
   ]
  },
  {
   "cell_type": "code",
   "execution_count": 6,
   "id": "40e36a0b",
   "metadata": {},
   "outputs": [
    {
     "data": {
      "text/plain": [
       "DataDict({'a': {'a': 6, 'b': 6}, 'b': {'a': 6, 'b': 6}, 'c': {'a': 6, 'b': 6}})"
      ]
     },
     "execution_count": 6,
     "metadata": {},
     "output_type": "execute_result"
    }
   ],
   "source": [
    "DataDict.from_product(\"abc\", \"ab\", value=2) * DataDict.from_product(\"abc\", \"ab\", value=3)"
   ]
  },
  {
   "cell_type": "markdown",
   "id": "16d7cbd9",
   "metadata": {},
   "source": [
    "Combine DataDicts with compatible keys"
   ]
  },
  {
   "cell_type": "code",
   "execution_count": 30,
   "id": "888dc990",
   "metadata": {},
   "outputs": [
    {
     "data": {
      "text/plain": [
       "DataDict({'a': {'a': 1, 'b': 1}, 'b': {'a': 1, 'b': 1}, 'c': {'a': 1, 'b': 1}})"
      ]
     },
     "execution_count": 30,
     "metadata": {},
     "output_type": "execute_result"
    }
   ],
   "source": [
    "dd = DataDict.from_product(\"abc\", \"ab\", value=1)\n",
    "dd"
   ]
  },
  {
   "cell_type": "code",
   "execution_count": 32,
   "id": "7cf3d147",
   "metadata": {},
   "outputs": [
    {
     "data": {
      "text/plain": [
       "(DataDict({'a': {'b': 1}, 'b': {'b': 1}, 'c': {'b': 1}}),\n",
       " DataDict({'a': {'a': 1, 'b': 2}, 'b': {'a': 1, 'b': 2}, 'c': {'a': 1, 'b': 2}}))"
      ]
     },
     "execution_count": 32,
     "metadata": {},
     "output_type": "execute_result"
    }
   ],
   "source": [
    "dd_sub = dd.extract[\"\", \"b\"]\n",
    "dd_sub, dd + dd_sub"
   ]
  },
  {
   "cell_type": "code",
   "execution_count": 34,
   "id": "b02006f4",
   "metadata": {},
   "outputs": [
    {
     "data": {
      "text/plain": [
       "(DataDict({'c': {'a': 1, 'b': 1}}),\n",
       " DataDict({'a': {'a': 1, 'b': 1}, 'b': {'a': 1, 'b': 1}, 'c': {'a': 0, 'b': 0}}))"
      ]
     },
     "execution_count": 34,
     "metadata": {},
     "output_type": "execute_result"
    }
   ],
   "source": [
    "dd_sub = dd.extract[\"c\"]\n",
    "dd_sub, dd - dd_sub"
   ]
  },
  {
   "cell_type": "markdown",
   "id": "9f99eec6",
   "metadata": {},
   "source": [
    "# Apply\n",
    "\n",
    "DataDict has an apply method similar to pandas DataFrame."
   ]
  },
  {
   "cell_type": "code",
   "execution_count": 7,
   "id": "c5fa47d6",
   "metadata": {},
   "outputs": [
    {
     "data": {
      "text/plain": [
       "DataDict({'a': {'a': 1, 'b': 1}, 'b': {'a': 1, 'b': 1}, 'c': {'a': 1, 'b': 1}})"
      ]
     },
     "execution_count": 7,
     "metadata": {},
     "output_type": "execute_result"
    }
   ],
   "source": [
    "dd = DataDict.from_product(\"abc\", \"ab\", value=1)\n",
    "dd.apply(lambda x: 2*x - 1)"
   ]
  },
  {
   "cell_type": "markdown",
   "id": "d3a90116",
   "metadata": {},
   "source": [
    "# Reduce methods\n",
    "\n",
    "DataDicts have several methods to reduce all values to a single one."
   ]
  },
  {
   "cell_type": "code",
   "execution_count": 9,
   "id": "35e13e7c",
   "metadata": {},
   "outputs": [
    {
     "data": {
      "text/plain": [
       "DataDict({'a': {'a': 1, 'b': 1}, 'b': {'a': 1, 'b': 1}, 'c': {'a': 1, 'b': 1}})"
      ]
     },
     "execution_count": 9,
     "metadata": {},
     "output_type": "execute_result"
    }
   ],
   "source": [
    "dd = DataDict.from_product(\"abc\", \"ab\", value=1)\n",
    "dd"
   ]
  },
  {
   "cell_type": "code",
   "execution_count": 11,
   "id": "193c3854",
   "metadata": {},
   "outputs": [
    {
     "data": {
      "text/plain": [
       "6"
      ]
     },
     "execution_count": 11,
     "metadata": {},
     "output_type": "execute_result"
    }
   ],
   "source": [
    "dd.total()"
   ]
  },
  {
   "cell_type": "code",
   "execution_count": 13,
   "id": "7112e73d",
   "metadata": {},
   "outputs": [
    {
     "data": {
      "text/plain": [
       "1.0"
      ]
     },
     "execution_count": 13,
     "metadata": {},
     "output_type": "execute_result"
    }
   ],
   "source": [
    "dd.mean()"
   ]
  },
  {
   "cell_type": "code",
   "execution_count": 14,
   "id": "a4bf322c",
   "metadata": {},
   "outputs": [
    {
     "data": {
      "text/plain": [
       "0.0"
      ]
     },
     "execution_count": 14,
     "metadata": {},
     "output_type": "execute_result"
    }
   ],
   "source": [
    "dd.std()"
   ]
  },
  {
   "cell_type": "markdown",
   "id": "20e6d047",
   "metadata": {},
   "source": [
    "Apply functools.reduce to all values of the DataDict"
   ]
  },
  {
   "cell_type": "code",
   "execution_count": 19,
   "id": "cc971e7f",
   "metadata": {},
   "outputs": [
    {
     "data": {
      "text/plain": [
       "10"
      ]
     },
     "execution_count": 19,
     "metadata": {},
     "output_type": "execute_result"
    }
   ],
   "source": [
    "dd.reduce(lambda x, y: x + y, 4)"
   ]
  },
  {
   "cell_type": "code",
   "execution_count": null,
   "id": "8d3b70b9",
   "metadata": {},
   "outputs": [],
   "source": []
  }
 ],
 "metadata": {
  "kernelspec": {
   "display_name": ".venv",
   "language": "python",
   "name": ".venv"
  },
  "language_info": {
   "codemirror_mode": {
    "name": "ipython",
    "version": 3
   },
   "file_extension": ".py",
   "mimetype": "text/x-python",
   "name": "python",
   "nbconvert_exporter": "python",
   "pygments_lexer": "ipython3",
   "version": "3.8.12"
  }
 },
 "nbformat": 4,
 "nbformat_minor": 5
}
