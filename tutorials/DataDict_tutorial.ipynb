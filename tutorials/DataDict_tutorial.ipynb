{
 "cells": [
  {
   "cell_type": "code",
   "execution_count": 1,
   "id": "90a9beb6",
   "metadata": {},
   "outputs": [],
   "source": [
    "from ndicts.ndicts import DataDict, NestedDict"
   ]
  },
  {
   "cell_type": "markdown",
   "id": "c145f91a",
   "metadata": {},
   "source": [
    "A DataDict is a NestedDict that supports arithmetic operations, as well as a buch of other methods for mathematical operations"
   ]
  },
  {
   "cell_type": "code",
   "execution_count": 2,
   "id": "5fcdcfe5",
   "metadata": {},
   "outputs": [],
   "source": [
    "assert isinstance(DataDict(), NestedDict)"
   ]
  },
  {
   "cell_type": "markdown",
   "id": "247435a1",
   "metadata": {},
   "source": [
    "# Arithmetics\n",
    "\n",
    "Operations supported: +, -, \\*, \\/, \\**, //, %"
   ]
  },
  {
   "cell_type": "code",
   "execution_count": 3,
   "id": "2330dc38",
   "metadata": {},
   "outputs": [
    {
     "data": {
      "text/plain": [
       "DataDict({'a': {'a': 3, 'b': 3}, 'b': {'a': 3, 'b': 3}, 'c': {'a': 3, 'b': 3}})"
      ]
     },
     "execution_count": 3,
     "metadata": {},
     "output_type": "execute_result"
    }
   ],
   "source": [
    "DataDict.from_product(\"abc\", \"ab\", value=1) + DataDict.from_product(\"abc\", \"ab\", value=2)"
   ]
  },
  {
   "cell_type": "code",
   "execution_count": 6,
   "id": "9c60f3e3",
   "metadata": {},
   "outputs": [
    {
     "data": {
      "text/plain": [
       "DataDict({'a': {'a': 6, 'b': 6}, 'b': {'a': 6, 'b': 6}, 'c': {'a': 6, 'b': 6}})"
      ]
     },
     "execution_count": 6,
     "metadata": {},
     "output_type": "execute_result"
    }
   ],
   "source": [
    "DataDict.from_product(\"abc\", \"ab\", value=2) * DataDict.from_product(\"abc\", \"ab\", value=3)"
   ]
  },
  {
   "cell_type": "markdown",
   "id": "879d0315",
   "metadata": {},
   "source": [
    "Combine DataDicts with compatible keys"
   ]
  },
  {
   "cell_type": "code",
   "execution_count": 30,
   "id": "60659acf",
   "metadata": {},
   "outputs": [
    {
     "data": {
      "text/plain": [
       "DataDict({'a': {'a': 1, 'b': 1}, 'b': {'a': 1, 'b': 1}, 'c': {'a': 1, 'b': 1}})"
      ]
     },
     "execution_count": 30,
     "metadata": {},
     "output_type": "execute_result"
    }
   ],
   "source": [
    "dd = DataDict.from_product(\"abc\", \"ab\", value=1)\n",
    "dd"
   ]
  },
  {
   "cell_type": "code",
   "execution_count": 32,
   "id": "0119c9d3",
   "metadata": {},
   "outputs": [
    {
     "data": {
      "text/plain": [
       "(DataDict({'a': {'b': 1}, 'b': {'b': 1}, 'c': {'b': 1}}),\n",
       " DataDict({'a': {'a': 1, 'b': 2}, 'b': {'a': 1, 'b': 2}, 'c': {'a': 1, 'b': 2}}))"
      ]
     },
     "execution_count": 32,
     "metadata": {},
     "output_type": "execute_result"
    }
   ],
   "source": [
    "dd_sub = dd.extract[\"\", \"b\"]\n",
    "dd_sub, dd + dd_sub"
   ]
  },
  {
   "cell_type": "code",
   "execution_count": 34,
   "id": "eb220300",
   "metadata": {},
   "outputs": [
    {
     "data": {
      "text/plain": [
       "(DataDict({'c': {'a': 1, 'b': 1}}),\n",
       " DataDict({'a': {'a': 1, 'b': 1}, 'b': {'a': 1, 'b': 1}, 'c': {'a': 0, 'b': 0}}))"
      ]
     },
     "execution_count": 34,
     "metadata": {},
     "output_type": "execute_result"
    }
   ],
   "source": [
    "dd_sub = dd.extract[\"c\"]\n",
    "dd_sub, dd - dd_sub"
   ]
  },
  {
   "cell_type": "markdown",
   "id": "44ac6486",
   "metadata": {},
   "source": [
    "# Apply\n",
    "\n",
    "DataDict has an apply method similar to pandas DataFrame."
   ]
  },
  {
   "cell_type": "code",
   "execution_count": 7,
   "id": "ed16f319",
   "metadata": {},
   "outputs": [
    {
     "data": {
      "text/plain": [
       "DataDict({'a': {'a': 1, 'b': 1}, 'b': {'a': 1, 'b': 1}, 'c': {'a': 1, 'b': 1}})"
      ]
     },
     "execution_count": 7,
     "metadata": {},
     "output_type": "execute_result"
    }
   ],
   "source": [
    "dd = DataDict.from_product(\"abc\", \"ab\", value=1)\n",
    "dd.apply(lambda x: 2*x - 1)"
   ]
  },
  {
   "cell_type": "markdown",
   "id": "76078c8f",
   "metadata": {},
   "source": [
    "# Reduce methods\n",
    "\n",
    "DataDicts have several methods to reduce all values to a single one."
   ]
  },
  {
   "cell_type": "code",
   "execution_count": 9,
   "id": "944bcd26",
   "metadata": {},
   "outputs": [
    {
     "data": {
      "text/plain": [
       "DataDict({'a': {'a': 1, 'b': 1}, 'b': {'a': 1, 'b': 1}, 'c': {'a': 1, 'b': 1}})"
      ]
     },
     "execution_count": 9,
     "metadata": {},
     "output_type": "execute_result"
    }
   ],
   "source": [
    "dd = DataDict.from_product(\"abc\", \"ab\", value=1)\n",
    "dd"
   ]
  },
  {
   "cell_type": "code",
   "execution_count": 11,
   "id": "b9e8011a",
   "metadata": {},
   "outputs": [
    {
     "data": {
      "text/plain": [
       "6"
      ]
     },
     "execution_count": 11,
     "metadata": {},
     "output_type": "execute_result"
    }
   ],
   "source": [
    "dd.total()"
   ]
  },
  {
   "cell_type": "code",
   "execution_count": 13,
   "id": "a76078b5",
   "metadata": {},
   "outputs": [
    {
     "data": {
      "text/plain": [
       "1.0"
      ]
     },
     "execution_count": 13,
     "metadata": {},
     "output_type": "execute_result"
    }
   ],
   "source": [
    "dd.mean()"
   ]
  },
  {
   "cell_type": "code",
   "execution_count": 14,
   "id": "c2b4d27f",
   "metadata": {},
   "outputs": [
    {
     "data": {
      "text/plain": [
       "0.0"
      ]
     },
     "execution_count": 14,
     "metadata": {},
     "output_type": "execute_result"
    }
   ],
   "source": [
    "dd.std()"
   ]
  },
  {
   "cell_type": "markdown",
   "id": "6c171b87",
   "metadata": {},
   "source": [
    "Apply functools.reduce to all values of the DataDict"
   ]
  },
  {
   "cell_type": "code",
   "execution_count": 19,
   "id": "977effbd",
   "metadata": {},
   "outputs": [
    {
     "data": {
      "text/plain": [
       "10"
      ]
     },
     "execution_count": 19,
     "metadata": {},
     "output_type": "execute_result"
    }
   ],
   "source": [
    "dd.reduce(lambda x, y: x + y, 4)"
   ]
  },
  {
   "cell_type": "code",
   "execution_count": null,
   "id": "84cf6158",
   "metadata": {},
   "outputs": [],
   "source": []
  }
 ],
 "metadata": {
  "kernelspec": {
   "display_name": ".venv",
   "language": "python",
   "name": ".venv"
  },
  "language_info": {
   "codemirror_mode": {
    "name": "ipython",
    "version": 3
   },
   "file_extension": ".py",
   "mimetype": "text/x-python",
   "name": "python",
   "nbconvert_exporter": "python",
   "pygments_lexer": "ipython3",
   "version": "3.8.12"
  }
 },
 "nbformat": 4,
 "nbformat_minor": 5
}
